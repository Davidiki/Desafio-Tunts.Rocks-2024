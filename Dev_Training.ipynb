{
  "nbformat": 4,
  "nbformat_minor": 0,
  "metadata": {
    "colab": {
      "provenance": []
    },
    "kernelspec": {
      "name": "python3",
      "display_name": "Python 3"
    },
    "language_info": {
      "name": "python"
    }
  },
  "cells": [
    {
      "cell_type": "code",
      "execution_count": 1,
      "metadata": {
        "id": "TrGDeJeiK4Iy",
        "colab": {
          "base_uri": "https://localhost:8080/"
        },
        "outputId": "1f0971c3-8b43-4685-a4af-5cf5413c74ec"
      },
      "outputs": [
        {
          "output_type": "stream",
          "name": "stdout",
          "text": [
            "Requirement already satisfied: gspread in /usr/local/lib/python3.10/dist-packages (3.4.2)\n",
            "Requirement already satisfied: requests>=2.2.1 in /usr/local/lib/python3.10/dist-packages (from gspread) (2.31.0)\n",
            "Requirement already satisfied: google-auth in /usr/local/lib/python3.10/dist-packages (from gspread) (2.27.0)\n",
            "Requirement already satisfied: charset-normalizer<4,>=2 in /usr/local/lib/python3.10/dist-packages (from requests>=2.2.1->gspread) (3.3.2)\n",
            "Requirement already satisfied: idna<4,>=2.5 in /usr/local/lib/python3.10/dist-packages (from requests>=2.2.1->gspread) (3.6)\n",
            "Requirement already satisfied: urllib3<3,>=1.21.1 in /usr/local/lib/python3.10/dist-packages (from requests>=2.2.1->gspread) (2.0.7)\n",
            "Requirement already satisfied: certifi>=2017.4.17 in /usr/local/lib/python3.10/dist-packages (from requests>=2.2.1->gspread) (2024.2.2)\n",
            "Requirement already satisfied: cachetools<6.0,>=2.0.0 in /usr/local/lib/python3.10/dist-packages (from google-auth->gspread) (5.3.2)\n",
            "Requirement already satisfied: pyasn1-modules>=0.2.1 in /usr/local/lib/python3.10/dist-packages (from google-auth->gspread) (0.3.0)\n",
            "Requirement already satisfied: rsa<5,>=3.1.4 in /usr/local/lib/python3.10/dist-packages (from google-auth->gspread) (4.9)\n",
            "Requirement already satisfied: pyasn1<0.6.0,>=0.4.6 in /usr/local/lib/python3.10/dist-packages (from pyasn1-modules>=0.2.1->google-auth->gspread) (0.5.1)\n",
            "Requirement already satisfied: oauth2client in /usr/local/lib/python3.10/dist-packages (4.1.3)\n",
            "Requirement already satisfied: httplib2>=0.9.1 in /usr/local/lib/python3.10/dist-packages (from oauth2client) (0.22.0)\n",
            "Requirement already satisfied: pyasn1>=0.1.7 in /usr/local/lib/python3.10/dist-packages (from oauth2client) (0.5.1)\n",
            "Requirement already satisfied: pyasn1-modules>=0.0.5 in /usr/local/lib/python3.10/dist-packages (from oauth2client) (0.3.0)\n",
            "Requirement already satisfied: rsa>=3.1.4 in /usr/local/lib/python3.10/dist-packages (from oauth2client) (4.9)\n",
            "Requirement already satisfied: six>=1.6.1 in /usr/local/lib/python3.10/dist-packages (from oauth2client) (1.16.0)\n",
            "Requirement already satisfied: pyparsing!=3.0.0,!=3.0.1,!=3.0.2,!=3.0.3,<4,>=2.4.2 in /usr/local/lib/python3.10/dist-packages (from httplib2>=0.9.1->oauth2client) (3.1.1)\n",
            "Requirement already satisfied: gspread_dataframe in /usr/local/lib/python3.10/dist-packages (3.3.1)\n",
            "Requirement already satisfied: gspread>=3.0.0 in /usr/local/lib/python3.10/dist-packages (from gspread_dataframe) (3.4.2)\n",
            "Requirement already satisfied: pandas>=0.24.0 in /usr/local/lib/python3.10/dist-packages (from gspread_dataframe) (1.5.3)\n",
            "Requirement already satisfied: six>=1.12.0 in /usr/local/lib/python3.10/dist-packages (from gspread_dataframe) (1.16.0)\n",
            "Requirement already satisfied: requests>=2.2.1 in /usr/local/lib/python3.10/dist-packages (from gspread>=3.0.0->gspread_dataframe) (2.31.0)\n",
            "Requirement already satisfied: google-auth in /usr/local/lib/python3.10/dist-packages (from gspread>=3.0.0->gspread_dataframe) (2.27.0)\n",
            "Requirement already satisfied: python-dateutil>=2.8.1 in /usr/local/lib/python3.10/dist-packages (from pandas>=0.24.0->gspread_dataframe) (2.8.2)\n",
            "Requirement already satisfied: pytz>=2020.1 in /usr/local/lib/python3.10/dist-packages (from pandas>=0.24.0->gspread_dataframe) (2023.4)\n",
            "Requirement already satisfied: numpy>=1.21.0 in /usr/local/lib/python3.10/dist-packages (from pandas>=0.24.0->gspread_dataframe) (1.25.2)\n",
            "Requirement already satisfied: charset-normalizer<4,>=2 in /usr/local/lib/python3.10/dist-packages (from requests>=2.2.1->gspread>=3.0.0->gspread_dataframe) (3.3.2)\n",
            "Requirement already satisfied: idna<4,>=2.5 in /usr/local/lib/python3.10/dist-packages (from requests>=2.2.1->gspread>=3.0.0->gspread_dataframe) (3.6)\n",
            "Requirement already satisfied: urllib3<3,>=1.21.1 in /usr/local/lib/python3.10/dist-packages (from requests>=2.2.1->gspread>=3.0.0->gspread_dataframe) (2.0.7)\n",
            "Requirement already satisfied: certifi>=2017.4.17 in /usr/local/lib/python3.10/dist-packages (from requests>=2.2.1->gspread>=3.0.0->gspread_dataframe) (2024.2.2)\n",
            "Requirement already satisfied: cachetools<6.0,>=2.0.0 in /usr/local/lib/python3.10/dist-packages (from google-auth->gspread>=3.0.0->gspread_dataframe) (5.3.2)\n",
            "Requirement already satisfied: pyasn1-modules>=0.2.1 in /usr/local/lib/python3.10/dist-packages (from google-auth->gspread>=3.0.0->gspread_dataframe) (0.3.0)\n",
            "Requirement already satisfied: rsa<5,>=3.1.4 in /usr/local/lib/python3.10/dist-packages (from google-auth->gspread>=3.0.0->gspread_dataframe) (4.9)\n",
            "Requirement already satisfied: pyasn1<0.6.0,>=0.4.6 in /usr/local/lib/python3.10/dist-packages (from pyasn1-modules>=0.2.1->google-auth->gspread>=3.0.0->gspread_dataframe) (0.5.1)\n"
          ]
        }
      ],
      "source": [
        "!pip install gspread\n",
        "!pip install oauth2client\n",
        "!pip install gspread_dataframe\n"
      ]
    },
    {
      "cell_type": "code",
      "source": [
        "# Import the necessary libraries\n",
        "import gspread\n",
        "import pandas as pd\n",
        "from google.colab import auth\n",
        "from google.auth import default\n",
        "from gspread_dataframe import set_with_dataframe\n",
        "\n",
        "# Authenticate the user\n",
        "auth.authenticate_user()\n",
        "creds, _ = default()\n",
        "\n",
        "# Open the spreadsheet by the URL\n",
        "gsheets = gspread.authorize(creds)\n",
        "planilha = gsheets.open_by_url('https://docs.google.com/spreadsheets/d/11-IQ3x8gJIg-M6SUprNuQtfdxTLbNO0S5IYfFdtt3I4/edit?usp=sharing')\n",
        "\n",
        "# Read the data from the spreadsheet and put them in a dataframe\n",
        "data = planilha.worksheet('engenharia_de_software').get_all_values()\n",
        "df = pd.DataFrame(data[3:], columns=data[2:])\n"
      ],
      "metadata": {
        "id": "-pyqYOgebjN7"
      },
      "execution_count": 2,
      "outputs": []
    },
    {
      "cell_type": "code",
      "source": [
        "# Define a function to calculate the mean of the tests\n",
        "def calculate_mean(p1, p2, p3):\n",
        "  try:\n",
        "    # Convert the grades to numbers\n",
        "    val1 = float(p1)\n",
        "    val2 = float(p2)\n",
        "    val3 = float(p3)\n",
        "    # Calculate the arithmetic mean\n",
        "    mean = (val1 + val2 + val3) / 3\n",
        "    return mean\n",
        "  except Exception as e:\n",
        "    return 0.00\n",
        "\n",
        "\n",
        "# Define a function to calculate the student's situation\n",
        "def calcular_situacao(mean, faltas):\n",
        "  # Set the total number of classes\n",
        "  total_aulas = 60\n",
        "  try:\n",
        "    # Convert absences to numbers\n",
        "    valfaltas = float(faltas)\n",
        "    # Calculate the percentage of absences\n",
        "    porcentagem_faltas = (valfaltas / total_aulas) * 100\n",
        "    # Check whether the student has failed due to absence\n",
        "    if porcentagem_faltas > 25:\n",
        "      situacao = \"Reprovado por Falta\"\n",
        "    # Otherwise, check the student's average\n",
        "    else:\n",
        "      # If the average is less than 5, the student is failing by grade\n",
        "      if mean < 50:\n",
        "        situacao = \"Reprovado por Nota\"\n",
        "      # If the average is greater than or equal to 7, the student is approved\n",
        "      elif mean >= 50 and mean < 70:\n",
        "        # If the average is between 5 and 7, the student is in the final exam\n",
        "        situacao = \"Exame Final\"\n",
        "      elif mean >= 70:\n",
        "        situacao = \"Aprovado\"\n",
        "    # Return the situation\n",
        "    return situacao\n",
        "  except Exception as e:\n",
        "    return \"Não Calculado\"\n",
        "\n",
        "# Define a function to calculate the grade for final approval\n",
        "def calcular_naf(mean, situacao):\n",
        "  try:\n",
        "    # Check if the student is in the final exam\n",
        "    if situacao == \"Exame Final\":\n",
        "      # Apply the formula to calculate the grade for final approval\n",
        "      return float(70) - float(mean)\n",
        "    # Otherwise, fill the field with 0\n",
        "    else:\n",
        "      return 0\n",
        "  except Exception as e:\n",
        "    return mean\n",
        "\n",
        "# Apply the function to calculate the student's situation and create a column called 'Situacao'\n",
        "df['Situação'] = df.apply(lambda row: calcular_situacao(calculate_mean(row['P1'], row['P2'], row['P3']), row['Faltas']), axis=1)\n",
        "# Apply the function to calculate the grade for final approval and create a column called 'NAF'\n",
        "df['Nota para Aprovação Final'] = df.apply(lambda row: calcular_naf(calculate_mean(row['P1'], row['P2'], row['P3']), calcular_situacao(calculate_mean(row['P1'], row['P2'], row['P3']), row['Faltas'])), axis=1)\n",
        "\n",
        "worksheet = planilha.worksheet('engenharia_de_software')\n",
        "\n",
        "# Specify the starting row and column where I want to write the data\n",
        "start_line = 4  # replace with the desired line number\n",
        "start_column = 1  # replace with the desired column number\n",
        "\n",
        "# Write data back to the worksheet from the specified row and column\n",
        "for i, row in enumerate(df.itertuples(), start=start_line):\n",
        "    for j, value in enumerate(row[start_column:], start=start_column):\n",
        "        worksheet.update_cell(i, j, str(value))\n"
      ],
      "metadata": {
        "id": "n7j7Pe-qoHox"
      },
      "execution_count": 3,
      "outputs": []
    }
  ]
}